{
 "cells": [
  {
   "cell_type": "code",
   "execution_count": 1,
   "id": "f4467059",
   "metadata": {},
   "outputs": [],
   "source": [
    "# Import the dependencies.\n",
    "import pandas as pd\n",
    "import gmaps\n",
    "import requests\n",
    "# Import the API key.\n",
    "from config import g_key"
   ]
  },
  {
   "cell_type": "code",
   "execution_count": 2,
   "id": "dd633e2b",
   "metadata": {},
   "outputs": [
    {
     "data": {
      "text/html": [
       "<div>\n",
       "<style scoped>\n",
       "    .dataframe tbody tr th:only-of-type {\n",
       "        vertical-align: middle;\n",
       "    }\n",
       "\n",
       "    .dataframe tbody tr th {\n",
       "        vertical-align: top;\n",
       "    }\n",
       "\n",
       "    .dataframe thead th {\n",
       "        text-align: right;\n",
       "    }\n",
       "</style>\n",
       "<table border=\"1\" class=\"dataframe\">\n",
       "  <thead>\n",
       "    <tr style=\"text-align: right;\">\n",
       "      <th></th>\n",
       "      <th>City_ID</th>\n",
       "      <th>City</th>\n",
       "      <th>Country</th>\n",
       "      <th>Date</th>\n",
       "      <th>Lat</th>\n",
       "      <th>Lng</th>\n",
       "      <th>Max Temp</th>\n",
       "      <th>Humidity</th>\n",
       "      <th>Cloudiness</th>\n",
       "      <th>Wind Speed</th>\n",
       "    </tr>\n",
       "  </thead>\n",
       "  <tbody>\n",
       "    <tr>\n",
       "      <th>0</th>\n",
       "      <td>0</td>\n",
       "      <td>Dikson</td>\n",
       "      <td>RU</td>\n",
       "      <td>2022-06-09 17:44:16</td>\n",
       "      <td>73.5069</td>\n",
       "      <td>80.5464</td>\n",
       "      <td>28.22</td>\n",
       "      <td>92</td>\n",
       "      <td>82</td>\n",
       "      <td>6.04</td>\n",
       "    </tr>\n",
       "    <tr>\n",
       "      <th>1</th>\n",
       "      <td>1</td>\n",
       "      <td>Tiznit</td>\n",
       "      <td>MA</td>\n",
       "      <td>2022-06-09 17:44:17</td>\n",
       "      <td>29.5833</td>\n",
       "      <td>-9.5000</td>\n",
       "      <td>79.81</td>\n",
       "      <td>46</td>\n",
       "      <td>0</td>\n",
       "      <td>6.98</td>\n",
       "    </tr>\n",
       "    <tr>\n",
       "      <th>2</th>\n",
       "      <td>2</td>\n",
       "      <td>Ushuaia</td>\n",
       "      <td>AR</td>\n",
       "      <td>2022-06-09 17:40:49</td>\n",
       "      <td>-54.8000</td>\n",
       "      <td>-68.3000</td>\n",
       "      <td>37.06</td>\n",
       "      <td>75</td>\n",
       "      <td>40</td>\n",
       "      <td>23.02</td>\n",
       "    </tr>\n",
       "    <tr>\n",
       "      <th>3</th>\n",
       "      <td>3</td>\n",
       "      <td>Busselton</td>\n",
       "      <td>AU</td>\n",
       "      <td>2022-06-09 17:44:17</td>\n",
       "      <td>-33.6500</td>\n",
       "      <td>115.3333</td>\n",
       "      <td>60.33</td>\n",
       "      <td>67</td>\n",
       "      <td>100</td>\n",
       "      <td>14.20</td>\n",
       "    </tr>\n",
       "    <tr>\n",
       "      <th>4</th>\n",
       "      <td>4</td>\n",
       "      <td>Clyde River</td>\n",
       "      <td>CA</td>\n",
       "      <td>2022-06-09 17:39:44</td>\n",
       "      <td>70.4692</td>\n",
       "      <td>-68.5914</td>\n",
       "      <td>32.23</td>\n",
       "      <td>86</td>\n",
       "      <td>100</td>\n",
       "      <td>8.05</td>\n",
       "    </tr>\n",
       "  </tbody>\n",
       "</table>\n",
       "</div>"
      ],
      "text/plain": [
       "   City_ID         City Country                 Date      Lat       Lng  \\\n",
       "0        0       Dikson      RU  2022-06-09 17:44:16  73.5069   80.5464   \n",
       "1        1       Tiznit      MA  2022-06-09 17:44:17  29.5833   -9.5000   \n",
       "2        2      Ushuaia      AR  2022-06-09 17:40:49 -54.8000  -68.3000   \n",
       "3        3    Busselton      AU  2022-06-09 17:44:17 -33.6500  115.3333   \n",
       "4        4  Clyde River      CA  2022-06-09 17:39:44  70.4692  -68.5914   \n",
       "\n",
       "   Max Temp  Humidity  Cloudiness  Wind Speed  \n",
       "0     28.22        92          82        6.04  \n",
       "1     79.81        46           0        6.98  \n",
       "2     37.06        75          40       23.02  \n",
       "3     60.33        67         100       14.20  \n",
       "4     32.23        86         100        8.05  "
      ]
     },
     "execution_count": 2,
     "metadata": {},
     "output_type": "execute_result"
    }
   ],
   "source": [
    "# Store the CSV you saved created in part one into a DataFrame.\n",
    "city_data_df = pd.read_csv(\"weather_data/cities.csv\")\n",
    "city_data_df.head()"
   ]
  },
  {
   "cell_type": "code",
   "execution_count": 3,
   "id": "323db4c9",
   "metadata": {},
   "outputs": [],
   "source": [
    "# Configure gmaps to use your Google API key.\n",
    "\n",
    "gmaps.configure(api_key=g_key)"
   ]
  },
  {
   "cell_type": "code",
   "execution_count": 5,
   "id": "a262cd9d",
   "metadata": {},
   "outputs": [],
   "source": [
    "# Get the maximum temperature.\n",
    "# max_temp = city_data_df[\"Max Temp\"]\n",
    "# temps = []\n",
    "# for temp in max_temp:\n",
    "    # temps.append(max(temp, 0))"
   ]
  },
  {
   "cell_type": "code",
   "execution_count": 8,
   "id": "986926ab",
   "metadata": {},
   "outputs": [
    {
     "data": {
      "application/vnd.jupyter.widget-view+json": {
       "model_id": "39cd8c6774ac4a40b8427815dac0f865",
       "version_major": 2,
       "version_minor": 0
      },
      "text/plain": [
       "Figure(layout=FigureLayout(height='420px'))"
      ]
     },
     "metadata": {},
     "output_type": "display_data"
    }
   ],
   "source": [
    "# Heatmap of temperature\n",
    "# Get the latitude and longitude.\n",
    "locations = city_data_df[[\"Lat\", \"Lng\"]]\n",
    "# Get the maximum temperature.\n",
    "max_temp = city_data_df[\"Max Temp\"]\n",
    "# Assign the figure variable.\n",
    "fig = gmaps.figure(center=(30.0, 31.0), zoom_level=1.5)\n",
    "# Assign the heatmap variable.\n",
    "heat_layer = gmaps.heatmap_layer(locations, weights=[max(temp, 0) for temp in max_temp])\n",
    "# Add the heatmap layer.\n",
    "fig.add_layer(heat_layer)\n",
    "# Call the figure to plot the data.\n",
    "fig"
   ]
  },
  {
   "cell_type": "code",
   "execution_count": 9,
   "id": "0f0951e4",
   "metadata": {},
   "outputs": [
    {
     "data": {
      "application/vnd.jupyter.widget-view+json": {
       "model_id": "3793828eb30649ed9998ca5c804c0355",
       "version_major": 2,
       "version_minor": 0
      },
      "text/plain": [
       "Figure(layout=FigureLayout(height='420px'))"
      ]
     },
     "metadata": {},
     "output_type": "display_data"
    }
   ],
   "source": [
    "# Heatmap of temperature\n",
    "# Get the latitude and longitude.\n",
    "locations = city_data_df[[\"Lat\", \"Lng\"]]\n",
    "# Get the maximum temperature.\n",
    "max_temp = city_data_df[\"Max Temp\"]\n",
    "# Assign the figure variable.\n",
    "fig = gmaps.figure(center=(30.0, 31.0), zoom_level=1.5)\n",
    "# Assign the heatmap variable.\n",
    "# heat_layer = gmaps.heatmap_layer(locations, weights=[max(temp, 0) for temp in max_temp])\n",
    "heat_layer = gmaps.heatmap_layer(locations, weights=[max(temp, 0) for temp in max_temp], dissipating=False, max_intensity=300, point_radius=4)\n",
    "\n",
    "# Add the heatmap layer.\n",
    "fig.add_layer(heat_layer)\n",
    "# Call the figure to plot the data.\n",
    "fig"
   ]
  },
  {
   "cell_type": "code",
   "execution_count": 10,
   "id": "310b2f58",
   "metadata": {},
   "outputs": [
    {
     "data": {
      "application/vnd.jupyter.widget-view+json": {
       "model_id": "69c0ff3946cd4393a0f2b7418b115890",
       "version_major": 2,
       "version_minor": 0
      },
      "text/plain": [
       "Figure(layout=FigureLayout(height='420px'))"
      ]
     },
     "metadata": {},
     "output_type": "display_data"
    }
   ],
   "source": [
    "# Heatmap of percent humidity\n",
    "locations = city_data_df[[\"Lat\", \"Lng\"]]\n",
    "humidity = city_data_df[\"Humidity\"]\n",
    "fig = gmaps.figure(center=(30.0, 31.0), zoom_level=1.5)\n",
    "heat_layer = gmaps.heatmap_layer(locations, weights=humidity, dissipating=False, max_intensity=300, point_radius=4)\n",
    "\n",
    "fig.add_layer(heat_layer)\n",
    "# Call the figure to plot the data.\n",
    "fig"
   ]
  },
  {
   "cell_type": "code",
   "execution_count": 11,
   "id": "2c196f15",
   "metadata": {},
   "outputs": [
    {
     "data": {
      "application/vnd.jupyter.widget-view+json": {
       "model_id": "c4bf2211de054689830089a49ec8305e",
       "version_major": 2,
       "version_minor": 0
      },
      "text/plain": [
       "Figure(layout=FigureLayout(height='420px'))"
      ]
     },
     "metadata": {},
     "output_type": "display_data"
    }
   ],
   "source": [
    "# Heatmap of percent humidity\n",
    "locations = city_data_df[[\"Lat\", \"Lng\"]]\n",
    "clouds = city_data_df[\"Cloudiness\"]\n",
    "fig = gmaps.figure(center=(30.0, 31.0), zoom_level=1.5)\n",
    "heat_layer = gmaps.heatmap_layer(locations, weights=clouds, dissipating=False, max_intensity=300, point_radius=4)\n",
    "\n",
    "fig.add_layer(heat_layer)\n",
    "# Call the figure to plot the data.\n",
    "fig"
   ]
  },
  {
   "cell_type": "code",
   "execution_count": 12,
   "id": "a7eb8744",
   "metadata": {},
   "outputs": [
    {
     "data": {
      "application/vnd.jupyter.widget-view+json": {
       "model_id": "e061231ccc554d81b377eb65e119d547",
       "version_major": 2,
       "version_minor": 0
      },
      "text/plain": [
       "Figure(layout=FigureLayout(height='420px'))"
      ]
     },
     "metadata": {},
     "output_type": "display_data"
    }
   ],
   "source": [
    "# Heatmap of percent humidity\n",
    "locations = city_data_df[[\"Lat\", \"Lng\"]]\n",
    "wind = city_data_df[\"Wind Speed\"]\n",
    "fig = gmaps.figure(center=(30.0, 31.0), zoom_level=1.5)\n",
    "heat_layer = gmaps.heatmap_layer(locations, weights=wind, dissipating=False, max_intensity=300, point_radius=4)\n",
    "\n",
    "fig.add_layer(heat_layer)\n",
    "# Call the figure to plot the data.\n",
    "fig"
   ]
  },
  {
   "cell_type": "code",
   "execution_count": 13,
   "id": "e54daa43",
   "metadata": {},
   "outputs": [
    {
     "name": "stdout",
     "output_type": "stream",
     "text": [
      "What is the minimum temperature you would like for your trip? 75\n",
      "What is the maximum temperature you would like for your trip? 90\n"
     ]
    }
   ],
   "source": [
    "# Ask the customer to add a minimum and maximum temperature value.\n",
    "min_temp = float(input(\"What is the minimum temperature you would like for your trip? \"))\n",
    "max_temp = float(input(\"What is the maximum temperature you would like for your trip? \"))"
   ]
  },
  {
   "cell_type": "code",
   "execution_count": 14,
   "id": "79478b35",
   "metadata": {},
   "outputs": [
    {
     "data": {
      "text/html": [
       "<div>\n",
       "<style scoped>\n",
       "    .dataframe tbody tr th:only-of-type {\n",
       "        vertical-align: middle;\n",
       "    }\n",
       "\n",
       "    .dataframe tbody tr th {\n",
       "        vertical-align: top;\n",
       "    }\n",
       "\n",
       "    .dataframe thead th {\n",
       "        text-align: right;\n",
       "    }\n",
       "</style>\n",
       "<table border=\"1\" class=\"dataframe\">\n",
       "  <thead>\n",
       "    <tr style=\"text-align: right;\">\n",
       "      <th></th>\n",
       "      <th>City_ID</th>\n",
       "      <th>City</th>\n",
       "      <th>Country</th>\n",
       "      <th>Date</th>\n",
       "      <th>Lat</th>\n",
       "      <th>Lng</th>\n",
       "      <th>Max Temp</th>\n",
       "      <th>Humidity</th>\n",
       "      <th>Cloudiness</th>\n",
       "      <th>Wind Speed</th>\n",
       "    </tr>\n",
       "  </thead>\n",
       "  <tbody>\n",
       "    <tr>\n",
       "      <th>1</th>\n",
       "      <td>1</td>\n",
       "      <td>Tiznit</td>\n",
       "      <td>MA</td>\n",
       "      <td>2022-06-09 17:44:17</td>\n",
       "      <td>29.5833</td>\n",
       "      <td>-9.5000</td>\n",
       "      <td>79.81</td>\n",
       "      <td>46</td>\n",
       "      <td>0</td>\n",
       "      <td>6.98</td>\n",
       "    </tr>\n",
       "    <tr>\n",
       "      <th>6</th>\n",
       "      <td>6</td>\n",
       "      <td>Isangel</td>\n",
       "      <td>VU</td>\n",
       "      <td>2022-06-09 17:44:18</td>\n",
       "      <td>-19.5500</td>\n",
       "      <td>169.2667</td>\n",
       "      <td>75.47</td>\n",
       "      <td>84</td>\n",
       "      <td>86</td>\n",
       "      <td>5.21</td>\n",
       "    </tr>\n",
       "    <tr>\n",
       "      <th>9</th>\n",
       "      <td>9</td>\n",
       "      <td>Road Town</td>\n",
       "      <td>VG</td>\n",
       "      <td>2022-06-09 17:40:35</td>\n",
       "      <td>18.4167</td>\n",
       "      <td>-64.6167</td>\n",
       "      <td>87.84</td>\n",
       "      <td>62</td>\n",
       "      <td>40</td>\n",
       "      <td>10.36</td>\n",
       "    </tr>\n",
       "    <tr>\n",
       "      <th>10</th>\n",
       "      <td>10</td>\n",
       "      <td>Dingle</td>\n",
       "      <td>PH</td>\n",
       "      <td>2022-06-09 17:44:19</td>\n",
       "      <td>10.9995</td>\n",
       "      <td>122.6711</td>\n",
       "      <td>77.49</td>\n",
       "      <td>88</td>\n",
       "      <td>80</td>\n",
       "      <td>4.25</td>\n",
       "    </tr>\n",
       "    <tr>\n",
       "      <th>12</th>\n",
       "      <td>12</td>\n",
       "      <td>Lebanon</td>\n",
       "      <td>US</td>\n",
       "      <td>2022-06-09 17:41:16</td>\n",
       "      <td>36.2081</td>\n",
       "      <td>-86.2911</td>\n",
       "      <td>82.17</td>\n",
       "      <td>55</td>\n",
       "      <td>22</td>\n",
       "      <td>9.78</td>\n",
       "    </tr>\n",
       "    <tr>\n",
       "      <th>13</th>\n",
       "      <td>13</td>\n",
       "      <td>Tabou</td>\n",
       "      <td>CI</td>\n",
       "      <td>2022-06-09 17:44:20</td>\n",
       "      <td>4.4230</td>\n",
       "      <td>-7.3528</td>\n",
       "      <td>80.47</td>\n",
       "      <td>78</td>\n",
       "      <td>70</td>\n",
       "      <td>6.49</td>\n",
       "    </tr>\n",
       "    <tr>\n",
       "      <th>14</th>\n",
       "      <td>14</td>\n",
       "      <td>Russell</td>\n",
       "      <td>US</td>\n",
       "      <td>2022-06-09 17:43:00</td>\n",
       "      <td>32.3502</td>\n",
       "      <td>-85.1999</td>\n",
       "      <td>87.08</td>\n",
       "      <td>65</td>\n",
       "      <td>20</td>\n",
       "      <td>9.22</td>\n",
       "    </tr>\n",
       "    <tr>\n",
       "      <th>17</th>\n",
       "      <td>17</td>\n",
       "      <td>Hilo</td>\n",
       "      <td>US</td>\n",
       "      <td>2022-06-09 17:40:47</td>\n",
       "      <td>19.7297</td>\n",
       "      <td>-155.0900</td>\n",
       "      <td>77.29</td>\n",
       "      <td>68</td>\n",
       "      <td>75</td>\n",
       "      <td>6.91</td>\n",
       "    </tr>\n",
       "    <tr>\n",
       "      <th>18</th>\n",
       "      <td>18</td>\n",
       "      <td>Totana</td>\n",
       "      <td>ES</td>\n",
       "      <td>2022-06-09 17:44:22</td>\n",
       "      <td>37.7688</td>\n",
       "      <td>-1.5023</td>\n",
       "      <td>83.70</td>\n",
       "      <td>47</td>\n",
       "      <td>1</td>\n",
       "      <td>10.11</td>\n",
       "    </tr>\n",
       "    <tr>\n",
       "      <th>20</th>\n",
       "      <td>20</td>\n",
       "      <td>Takoradi</td>\n",
       "      <td>GH</td>\n",
       "      <td>2022-06-09 17:44:23</td>\n",
       "      <td>4.8845</td>\n",
       "      <td>-1.7554</td>\n",
       "      <td>80.28</td>\n",
       "      <td>80</td>\n",
       "      <td>91</td>\n",
       "      <td>8.46</td>\n",
       "    </tr>\n",
       "  </tbody>\n",
       "</table>\n",
       "</div>"
      ],
      "text/plain": [
       "    City_ID       City Country                 Date      Lat       Lng  \\\n",
       "1         1     Tiznit      MA  2022-06-09 17:44:17  29.5833   -9.5000   \n",
       "6         6    Isangel      VU  2022-06-09 17:44:18 -19.5500  169.2667   \n",
       "9         9  Road Town      VG  2022-06-09 17:40:35  18.4167  -64.6167   \n",
       "10       10     Dingle      PH  2022-06-09 17:44:19  10.9995  122.6711   \n",
       "12       12    Lebanon      US  2022-06-09 17:41:16  36.2081  -86.2911   \n",
       "13       13      Tabou      CI  2022-06-09 17:44:20   4.4230   -7.3528   \n",
       "14       14    Russell      US  2022-06-09 17:43:00  32.3502  -85.1999   \n",
       "17       17       Hilo      US  2022-06-09 17:40:47  19.7297 -155.0900   \n",
       "18       18     Totana      ES  2022-06-09 17:44:22  37.7688   -1.5023   \n",
       "20       20   Takoradi      GH  2022-06-09 17:44:23   4.8845   -1.7554   \n",
       "\n",
       "    Max Temp  Humidity  Cloudiness  Wind Speed  \n",
       "1      79.81        46           0        6.98  \n",
       "6      75.47        84          86        5.21  \n",
       "9      87.84        62          40       10.36  \n",
       "10     77.49        88          80        4.25  \n",
       "12     82.17        55          22        9.78  \n",
       "13     80.47        78          70        6.49  \n",
       "14     87.08        65          20        9.22  \n",
       "17     77.29        68          75        6.91  \n",
       "18     83.70        47           1       10.11  \n",
       "20     80.28        80          91        8.46  "
      ]
     },
     "execution_count": 14,
     "metadata": {},
     "output_type": "execute_result"
    }
   ],
   "source": [
    "# Filter the dataset to find the cities that fit the criteria.\n",
    "preferred_cities_df = city_data_df.loc[(city_data_df[\"Max Temp\"] <= max_temp) & \\\n",
    "                                       (city_data_df[\"Max Temp\"] >= min_temp)]\n",
    "preferred_cities_df.head(10)"
   ]
  },
  {
   "cell_type": "code",
   "execution_count": 15,
   "id": "ec26ee7d",
   "metadata": {},
   "outputs": [
    {
     "data": {
      "text/plain": [
       "City_ID       190\n",
       "City          190\n",
       "Country       190\n",
       "Date          190\n",
       "Lat           190\n",
       "Lng           190\n",
       "Max Temp      190\n",
       "Humidity      190\n",
       "Cloudiness    190\n",
       "Wind Speed    190\n",
       "dtype: int64"
      ]
     },
     "execution_count": 15,
     "metadata": {},
     "output_type": "execute_result"
    }
   ],
   "source": [
    "preferred_cities_df.count()"
   ]
  },
  {
   "cell_type": "code",
   "execution_count": 16,
   "id": "ca33ef4d",
   "metadata": {},
   "outputs": [
    {
     "data": {
      "text/html": [
       "<div>\n",
       "<style scoped>\n",
       "    .dataframe tbody tr th:only-of-type {\n",
       "        vertical-align: middle;\n",
       "    }\n",
       "\n",
       "    .dataframe tbody tr th {\n",
       "        vertical-align: top;\n",
       "    }\n",
       "\n",
       "    .dataframe thead th {\n",
       "        text-align: right;\n",
       "    }\n",
       "</style>\n",
       "<table border=\"1\" class=\"dataframe\">\n",
       "  <thead>\n",
       "    <tr style=\"text-align: right;\">\n",
       "      <th></th>\n",
       "      <th>City</th>\n",
       "      <th>Country</th>\n",
       "      <th>Max Temp</th>\n",
       "      <th>Lat</th>\n",
       "      <th>Lng</th>\n",
       "      <th>Hotel Name</th>\n",
       "    </tr>\n",
       "  </thead>\n",
       "  <tbody>\n",
       "    <tr>\n",
       "      <th>1</th>\n",
       "      <td>Tiznit</td>\n",
       "      <td>MA</td>\n",
       "      <td>79.81</td>\n",
       "      <td>29.5833</td>\n",
       "      <td>-9.5000</td>\n",
       "      <td></td>\n",
       "    </tr>\n",
       "    <tr>\n",
       "      <th>6</th>\n",
       "      <td>Isangel</td>\n",
       "      <td>VU</td>\n",
       "      <td>75.47</td>\n",
       "      <td>-19.5500</td>\n",
       "      <td>169.2667</td>\n",
       "      <td></td>\n",
       "    </tr>\n",
       "    <tr>\n",
       "      <th>9</th>\n",
       "      <td>Road Town</td>\n",
       "      <td>VG</td>\n",
       "      <td>87.84</td>\n",
       "      <td>18.4167</td>\n",
       "      <td>-64.6167</td>\n",
       "      <td></td>\n",
       "    </tr>\n",
       "    <tr>\n",
       "      <th>10</th>\n",
       "      <td>Dingle</td>\n",
       "      <td>PH</td>\n",
       "      <td>77.49</td>\n",
       "      <td>10.9995</td>\n",
       "      <td>122.6711</td>\n",
       "      <td></td>\n",
       "    </tr>\n",
       "    <tr>\n",
       "      <th>12</th>\n",
       "      <td>Lebanon</td>\n",
       "      <td>US</td>\n",
       "      <td>82.17</td>\n",
       "      <td>36.2081</td>\n",
       "      <td>-86.2911</td>\n",
       "      <td></td>\n",
       "    </tr>\n",
       "    <tr>\n",
       "      <th>13</th>\n",
       "      <td>Tabou</td>\n",
       "      <td>CI</td>\n",
       "      <td>80.47</td>\n",
       "      <td>4.4230</td>\n",
       "      <td>-7.3528</td>\n",
       "      <td></td>\n",
       "    </tr>\n",
       "    <tr>\n",
       "      <th>14</th>\n",
       "      <td>Russell</td>\n",
       "      <td>US</td>\n",
       "      <td>87.08</td>\n",
       "      <td>32.3502</td>\n",
       "      <td>-85.1999</td>\n",
       "      <td></td>\n",
       "    </tr>\n",
       "    <tr>\n",
       "      <th>17</th>\n",
       "      <td>Hilo</td>\n",
       "      <td>US</td>\n",
       "      <td>77.29</td>\n",
       "      <td>19.7297</td>\n",
       "      <td>-155.0900</td>\n",
       "      <td></td>\n",
       "    </tr>\n",
       "    <tr>\n",
       "      <th>18</th>\n",
       "      <td>Totana</td>\n",
       "      <td>ES</td>\n",
       "      <td>83.70</td>\n",
       "      <td>37.7688</td>\n",
       "      <td>-1.5023</td>\n",
       "      <td></td>\n",
       "    </tr>\n",
       "    <tr>\n",
       "      <th>20</th>\n",
       "      <td>Takoradi</td>\n",
       "      <td>GH</td>\n",
       "      <td>80.28</td>\n",
       "      <td>4.8845</td>\n",
       "      <td>-1.7554</td>\n",
       "      <td></td>\n",
       "    </tr>\n",
       "  </tbody>\n",
       "</table>\n",
       "</div>"
      ],
      "text/plain": [
       "         City Country  Max Temp      Lat       Lng Hotel Name\n",
       "1      Tiznit      MA     79.81  29.5833   -9.5000           \n",
       "6     Isangel      VU     75.47 -19.5500  169.2667           \n",
       "9   Road Town      VG     87.84  18.4167  -64.6167           \n",
       "10     Dingle      PH     77.49  10.9995  122.6711           \n",
       "12    Lebanon      US     82.17  36.2081  -86.2911           \n",
       "13      Tabou      CI     80.47   4.4230   -7.3528           \n",
       "14    Russell      US     87.08  32.3502  -85.1999           \n",
       "17       Hilo      US     77.29  19.7297 -155.0900           \n",
       "18     Totana      ES     83.70  37.7688   -1.5023           \n",
       "20   Takoradi      GH     80.28   4.8845   -1.7554           "
      ]
     },
     "execution_count": 16,
     "metadata": {},
     "output_type": "execute_result"
    }
   ],
   "source": [
    "# Create DataFrame called hotel_df to store hotel names along with city, country, max temp, and coordinates.\n",
    "hotel_df = preferred_cities_df[[\"City\", \"Country\", \"Max Temp\", \"Lat\", \"Lng\"]].copy()\n",
    "hotel_df[\"Hotel Name\"] = \"\"\n",
    "hotel_df.head(10)"
   ]
  },
  {
   "cell_type": "code",
   "execution_count": 18,
   "id": "0981989e",
   "metadata": {},
   "outputs": [],
   "source": [
    "# Set parameters to search for a hotel.\n",
    "params = {\n",
    "    \"radius\": 5000,\n",
    "    \"type\": \"lodging\",\n",
    "    \"key\": g_key\n",
    "}"
   ]
  },
  {
   "cell_type": "code",
   "execution_count": 20,
   "id": "da60c4e1",
   "metadata": {},
   "outputs": [
    {
     "name": "stdout",
     "output_type": "stream",
     "text": [
      "Hotel not found... skipping.\n",
      "Hotel not found... skipping.\n",
      "Hotel not found... skipping.\n",
      "Hotel not found... skipping.\n",
      "Hotel not found... skipping.\n",
      "Hotel not found... skipping.\n",
      "Hotel not found... skipping.\n",
      "Hotel not found... skipping.\n",
      "Hotel not found... skipping.\n",
      "Hotel not found... skipping.\n",
      "Hotel not found... skipping.\n",
      "Hotel not found... skipping.\n",
      "Hotel not found... skipping.\n",
      "Hotel not found... skipping.\n"
     ]
    }
   ],
   "source": [
    "# Iterate through the DataFrame.\n",
    "for index, row in hotel_df.iterrows():\n",
    "    # Get the latitude and longitude.\n",
    "    lat = row[\"Lat\"]\n",
    "    lng = row[\"Lng\"]\n",
    "\n",
    "    # Add the latitude and longitude to location key for the params dictionary.\n",
    "    params[\"location\"] = f\"{lat},{lng}\"\n",
    "\n",
    "    # Use the search term: \"lodging\" and our latitude and longitude.\n",
    "    base_url = \"https://maps.googleapis.com/maps/api/place/nearbysearch/json\"\n",
    "    # Make request and get the JSON data from the search.\n",
    "    hotels = requests.get(base_url, params=params).json()\n",
    "    # Grab the first hotel from the results and store the name.\n",
    "    # hotel_df.loc[index, \"Hotel Name\"] = hotels[\"results\"][0][\"name\"]\n",
    "    \n",
    "    # Grab the first hotel from the results and store the name.\n",
    "    try:\n",
    "        hotel_df.loc[index, \"Hotel Name\"] = hotels[\"results\"][0][\"name\"]\n",
    "    except (IndexError):\n",
    "        print(\"Hotel not found... skipping.\")"
   ]
  },
  {
   "cell_type": "code",
   "execution_count": 21,
   "id": "66b1bc67",
   "metadata": {},
   "outputs": [
    {
     "data": {
      "text/html": [
       "<div>\n",
       "<style scoped>\n",
       "    .dataframe tbody tr th:only-of-type {\n",
       "        vertical-align: middle;\n",
       "    }\n",
       "\n",
       "    .dataframe tbody tr th {\n",
       "        vertical-align: top;\n",
       "    }\n",
       "\n",
       "    .dataframe thead th {\n",
       "        text-align: right;\n",
       "    }\n",
       "</style>\n",
       "<table border=\"1\" class=\"dataframe\">\n",
       "  <thead>\n",
       "    <tr style=\"text-align: right;\">\n",
       "      <th></th>\n",
       "      <th>City</th>\n",
       "      <th>Country</th>\n",
       "      <th>Max Temp</th>\n",
       "      <th>Lat</th>\n",
       "      <th>Lng</th>\n",
       "      <th>Hotel Name</th>\n",
       "    </tr>\n",
       "  </thead>\n",
       "  <tbody>\n",
       "    <tr>\n",
       "      <th>1</th>\n",
       "      <td>Tiznit</td>\n",
       "      <td>MA</td>\n",
       "      <td>79.81</td>\n",
       "      <td>29.5833</td>\n",
       "      <td>-9.5000</td>\n",
       "      <td></td>\n",
       "    </tr>\n",
       "    <tr>\n",
       "      <th>6</th>\n",
       "      <td>Isangel</td>\n",
       "      <td>VU</td>\n",
       "      <td>75.47</td>\n",
       "      <td>-19.5500</td>\n",
       "      <td>169.2667</td>\n",
       "      <td>Tanna Lodge</td>\n",
       "    </tr>\n",
       "    <tr>\n",
       "      <th>9</th>\n",
       "      <td>Road Town</td>\n",
       "      <td>VG</td>\n",
       "      <td>87.84</td>\n",
       "      <td>18.4167</td>\n",
       "      <td>-64.6167</td>\n",
       "      <td>ZINGARA 76ft Catamaran, full crew-all included</td>\n",
       "    </tr>\n",
       "    <tr>\n",
       "      <th>10</th>\n",
       "      <td>Dingle</td>\n",
       "      <td>PH</td>\n",
       "      <td>77.49</td>\n",
       "      <td>10.9995</td>\n",
       "      <td>122.6711</td>\n",
       "      <td>SEGAYA PROPERTY</td>\n",
       "    </tr>\n",
       "    <tr>\n",
       "      <th>12</th>\n",
       "      <td>Lebanon</td>\n",
       "      <td>US</td>\n",
       "      <td>82.17</td>\n",
       "      <td>36.2081</td>\n",
       "      <td>-86.2911</td>\n",
       "      <td>Hampton Inn &amp; Suites Lebanon</td>\n",
       "    </tr>\n",
       "    <tr>\n",
       "      <th>...</th>\n",
       "      <td>...</td>\n",
       "      <td>...</td>\n",
       "      <td>...</td>\n",
       "      <td>...</td>\n",
       "      <td>...</td>\n",
       "      <td>...</td>\n",
       "    </tr>\n",
       "    <tr>\n",
       "      <th>551</th>\n",
       "      <td>Odweyne</td>\n",
       "      <td>SO</td>\n",
       "      <td>79.83</td>\n",
       "      <td>9.4092</td>\n",
       "      <td>45.0640</td>\n",
       "      <td>Eng Hiirey House</td>\n",
       "    </tr>\n",
       "    <tr>\n",
       "      <th>552</th>\n",
       "      <td>Galesong</td>\n",
       "      <td>ID</td>\n",
       "      <td>75.22</td>\n",
       "      <td>-5.3166</td>\n",
       "      <td>119.3661</td>\n",
       "      <td>Sapriadi Appy</td>\n",
       "    </tr>\n",
       "    <tr>\n",
       "      <th>561</th>\n",
       "      <td>Namatanai</td>\n",
       "      <td>PG</td>\n",
       "      <td>77.45</td>\n",
       "      <td>-3.6667</td>\n",
       "      <td>152.4333</td>\n",
       "      <td>Seagulls Inn Namatani</td>\n",
       "    </tr>\n",
       "    <tr>\n",
       "      <th>562</th>\n",
       "      <td>Willmar</td>\n",
       "      <td>US</td>\n",
       "      <td>77.18</td>\n",
       "      <td>45.1219</td>\n",
       "      <td>-95.0433</td>\n",
       "      <td>Lakeview Inn</td>\n",
       "    </tr>\n",
       "    <tr>\n",
       "      <th>566</th>\n",
       "      <td>Harper</td>\n",
       "      <td>LR</td>\n",
       "      <td>79.88</td>\n",
       "      <td>4.3750</td>\n",
       "      <td>-7.7169</td>\n",
       "      <td>Screensaver</td>\n",
       "    </tr>\n",
       "  </tbody>\n",
       "</table>\n",
       "<p>190 rows × 6 columns</p>\n",
       "</div>"
      ],
      "text/plain": [
       "          City Country  Max Temp      Lat       Lng  \\\n",
       "1       Tiznit      MA     79.81  29.5833   -9.5000   \n",
       "6      Isangel      VU     75.47 -19.5500  169.2667   \n",
       "9    Road Town      VG     87.84  18.4167  -64.6167   \n",
       "10      Dingle      PH     77.49  10.9995  122.6711   \n",
       "12     Lebanon      US     82.17  36.2081  -86.2911   \n",
       "..         ...     ...       ...      ...       ...   \n",
       "551    Odweyne      SO     79.83   9.4092   45.0640   \n",
       "552   Galesong      ID     75.22  -5.3166  119.3661   \n",
       "561  Namatanai      PG     77.45  -3.6667  152.4333   \n",
       "562    Willmar      US     77.18  45.1219  -95.0433   \n",
       "566     Harper      LR     79.88   4.3750   -7.7169   \n",
       "\n",
       "                                         Hotel Name  \n",
       "1                                                    \n",
       "6                                       Tanna Lodge  \n",
       "9    ZINGARA 76ft Catamaran, full crew-all included  \n",
       "10                                  SEGAYA PROPERTY  \n",
       "12                     Hampton Inn & Suites Lebanon  \n",
       "..                                              ...  \n",
       "551                                Eng Hiirey House  \n",
       "552                                   Sapriadi Appy  \n",
       "561                           Seagulls Inn Namatani  \n",
       "562                                    Lakeview Inn  \n",
       "566                                     Screensaver  \n",
       "\n",
       "[190 rows x 6 columns]"
      ]
     },
     "execution_count": 21,
     "metadata": {},
     "output_type": "execute_result"
    }
   ],
   "source": [
    "hotel_df"
   ]
  },
  {
   "cell_type": "code",
   "execution_count": 22,
   "id": "8571ad4c",
   "metadata": {},
   "outputs": [
    {
     "data": {
      "application/vnd.jupyter.widget-view+json": {
       "model_id": "b7071ca7981c43b391e85369f27f22f6",
       "version_major": 2,
       "version_minor": 0
      },
      "text/plain": [
       "Figure(layout=FigureLayout(height='420px'))"
      ]
     },
     "metadata": {},
     "output_type": "display_data"
    }
   ],
   "source": [
    "# Add a heatmap of temperature for the vacation spots.\n",
    "locations = hotel_df[[\"Lat\", \"Lng\"]]\n",
    "max_temp = hotel_df[\"Max Temp\"]\n",
    "fig = gmaps.figure(center=(30.0, 31.0), zoom_level=1.5)\n",
    "heat_layer = gmaps.heatmap_layer(locations, weights=max_temp, dissipating=False,\n",
    "             max_intensity=300, point_radius=4)\n",
    "\n",
    "fig.add_layer(heat_layer)\n",
    "# Call the figure to plot the data.\n",
    "fig"
   ]
  },
  {
   "cell_type": "code",
   "execution_count": 23,
   "id": "a8bcbfa3",
   "metadata": {},
   "outputs": [
    {
     "data": {
      "application/vnd.jupyter.widget-view+json": {
       "model_id": "db17f9d658744c3198bedf3d9291bb3c",
       "version_major": 2,
       "version_minor": 0
      },
      "text/plain": [
       "Figure(layout=FigureLayout(height='420px'))"
      ]
     },
     "metadata": {},
     "output_type": "display_data"
    }
   ],
   "source": [
    "# Add a heatmap of temperature for the vacation spots and marker for each city.\n",
    "locations = hotel_df[[\"Lat\", \"Lng\"]]\n",
    "max_temp = hotel_df[\"Max Temp\"]\n",
    "fig = gmaps.figure(center=(30.0, 31.0), zoom_level=1.5)\n",
    "heat_layer = gmaps.heatmap_layer(locations, weights=max_temp,\n",
    "             dissipating=False, max_intensity=300, point_radius=4)\n",
    "marker_layer = gmaps.marker_layer(locations)\n",
    "fig.add_layer(heat_layer)\n",
    "fig.add_layer(marker_layer)\n",
    "# Call the figure to plot the data.\n",
    "fig"
   ]
  },
  {
   "cell_type": "code",
   "execution_count": 24,
   "id": "102e0e82",
   "metadata": {},
   "outputs": [],
   "source": [
    "info_box_template = \"\"\"\n",
    "<dl>\n",
    "<dt>Hotel Name</dt><dd>{Hotel Name}</dd>\n",
    "<dt>City</dt><dd>{City}</dd>\n",
    "<dt>Country</dt><dd>{Country}</dd>\n",
    "<dt>Max Temp</dt><dd>{Max Temp} °F</dd>\n",
    "</dl>\n",
    "\"\"\""
   ]
  },
  {
   "cell_type": "code",
   "execution_count": 25,
   "id": "36711c8e",
   "metadata": {},
   "outputs": [],
   "source": [
    "# Store the DataFrame Row.\n",
    "hotel_info = [info_box_template.format(**row) for index, row in hotel_df.iterrows()]"
   ]
  },
  {
   "cell_type": "code",
   "execution_count": 26,
   "id": "cfc4661e",
   "metadata": {},
   "outputs": [
    {
     "data": {
      "application/vnd.jupyter.widget-view+json": {
       "model_id": "b0585af1da7e4c0cb4ca8314252fe67f",
       "version_major": 2,
       "version_minor": 0
      },
      "text/plain": [
       "Figure(layout=FigureLayout(height='420px'))"
      ]
     },
     "metadata": {},
     "output_type": "display_data"
    }
   ],
   "source": [
    "# Add a heatmap of temperature for the vacation spots and a pop-up marker for each city.\n",
    "locations = hotel_df[[\"Lat\", \"Lng\"]]\n",
    "max_temp = hotel_df[\"Max Temp\"]\n",
    "fig = gmaps.figure(center=(30.0, 31.0), zoom_level=1.5)\n",
    "heat_layer = gmaps.heatmap_layer(locations, weights=max_temp,dissipating=False,\n",
    "             max_intensity=300, point_radius=4)\n",
    "marker_layer = gmaps.marker_layer(locations, info_box_content=hotel_info)\n",
    "fig.add_layer(heat_layer)\n",
    "fig.add_layer(marker_layer)\n",
    "\n",
    "# Call the figure to plot the data.\n",
    "fig"
   ]
  },
  {
   "cell_type": "code",
   "execution_count": null,
   "id": "59be194c",
   "metadata": {},
   "outputs": [],
   "source": []
  }
 ],
 "metadata": {
  "kernelspec": {
   "display_name": "Python 3 (ipykernel)",
   "language": "python",
   "name": "python3"
  },
  "language_info": {
   "codemirror_mode": {
    "name": "ipython",
    "version": 3
   },
   "file_extension": ".py",
   "mimetype": "text/x-python",
   "name": "python",
   "nbconvert_exporter": "python",
   "pygments_lexer": "ipython3",
   "version": "3.9.12"
  }
 },
 "nbformat": 4,
 "nbformat_minor": 5
}
